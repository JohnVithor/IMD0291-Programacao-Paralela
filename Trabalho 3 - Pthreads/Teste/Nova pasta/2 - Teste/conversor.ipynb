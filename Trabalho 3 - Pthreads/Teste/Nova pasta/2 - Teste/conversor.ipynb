{
 "metadata": {
  "language_info": {
   "codemirror_mode": {
    "name": "ipython",
    "version": 3
   },
   "file_extension": ".py",
   "mimetype": "text/x-python",
   "name": "python",
   "nbconvert_exporter": "python",
   "pygments_lexer": "ipython3",
   "version": "3.8.5-final"
  },
  "orig_nbformat": 2,
  "kernelspec": {
   "name": "Python 3.8.5 64-bit",
   "display_name": "Python 3.8.5 64-bit",
   "metadata": {
    "interpreter": {
     "hash": "31f2aee4e71d21fbe5cf8b01ff0e069b9275f58929596ceb00d14d90e3e16cd6"
    }
   }
  }
 },
 "nbformat": 4,
 "nbformat_minor": 2,
 "cells": [
  {
   "cell_type": "code",
   "execution_count": 1,
   "metadata": {},
   "outputs": [],
   "source": [
    "import pandas as pd"
   ]
  },
  {
   "cell_type": "code",
   "execution_count": 2,
   "metadata": {},
   "outputs": [],
   "source": [
    "serial = pd.read_csv(\"Serial_15t.csv\")\n",
    "parallel_1 = pd.read_csv(\"parallel_15t_8n.csv\")\n",
    "parallel_2 = pd.read_csv(\"parallel_15t_32n.csv\")"
   ]
  },
  {
   "cell_type": "code",
   "execution_count": 3,
   "metadata": {},
   "outputs": [],
   "source": [
    "parallel = pd.concat([parallel_1, parallel_2])"
   ]
  },
  {
   "cell_type": "code",
   "execution_count": 4,
   "metadata": {},
   "outputs": [],
   "source": [
    "parallel_data = parallel.drop(\"trial\", axis=1).groupby([\"program\", \"cores\", \"problem_size\"]).mean()"
   ]
  },
  {
   "cell_type": "code",
   "execution_count": 5,
   "metadata": {},
   "outputs": [],
   "source": [
    "serial_data = serial.drop([\"trial\", \"cores\"], axis=1).groupby([\"program\", \"problem_size\"]).mean()"
   ]
  },
  {
   "cell_type": "code",
   "execution_count": 29,
   "metadata": {},
   "outputs": [],
   "source": [
    "def remove_min_max(data):\n",
    "    mins = list(data.groupby([\"program\", \"problem_size\"]).idxmin()[\"execution_time\"].values)\n",
    "    maxs = list(data.groupby([\"program\", \"problem_size\"]).idxmax()[\"execution_time\"].values)\n",
    "    return data.drop(mins+maxs)\n",
    "serial_clean = remove_min_max(serial)\n",
    "serial_clean = remove_min_max(serial_clean)\n",
    "serial_clean_data = serial_clean.drop([\"trial\", \"cores\"], axis=1).groupby([\"program\", \"problem_size\"]).mean()"
   ]
  },
  {
   "cell_type": "code",
   "execution_count": 30,
   "metadata": {},
   "outputs": [
    {
     "output_type": "execute_result",
     "data": {
      "text/plain": [
       "                                      execution_time\n",
       "program                 problem_size                \n",
       "serial                  1440               31.302000\n",
       "                        1600               41.781333\n",
       "                        1760               51.716000\n",
       "                        1920               73.414000\n",
       "                        2080              104.645333\n",
       "serial_random_line      1440               29.792000\n",
       "                        1600               41.817333\n",
       "                        1760               53.711333\n",
       "                        1920               76.528667\n",
       "                        2080               97.492667\n",
       "serial_square_transpose 1440               13.474667\n",
       "                        1600               18.500000\n",
       "                        1760               24.593333\n",
       "                        1920               31.964667\n",
       "                        2080               40.682667\n",
       "serial_transpose        1440               13.514667\n",
       "                        1600               18.525333\n",
       "                        1760               24.662667\n",
       "                        1920               31.988667\n",
       "                        2080               40.701333"
      ],
      "text/html": "<div>\n<style scoped>\n    .dataframe tbody tr th:only-of-type {\n        vertical-align: middle;\n    }\n\n    .dataframe tbody tr th {\n        vertical-align: top;\n    }\n\n    .dataframe thead th {\n        text-align: right;\n    }\n</style>\n<table border=\"1\" class=\"dataframe\">\n  <thead>\n    <tr style=\"text-align: right;\">\n      <th></th>\n      <th></th>\n      <th>execution_time</th>\n    </tr>\n    <tr>\n      <th>program</th>\n      <th>problem_size</th>\n      <th></th>\n    </tr>\n  </thead>\n  <tbody>\n    <tr>\n      <th rowspan=\"5\" valign=\"top\">serial</th>\n      <th>1440</th>\n      <td>31.302000</td>\n    </tr>\n    <tr>\n      <th>1600</th>\n      <td>41.781333</td>\n    </tr>\n    <tr>\n      <th>1760</th>\n      <td>51.716000</td>\n    </tr>\n    <tr>\n      <th>1920</th>\n      <td>73.414000</td>\n    </tr>\n    <tr>\n      <th>2080</th>\n      <td>104.645333</td>\n    </tr>\n    <tr>\n      <th rowspan=\"5\" valign=\"top\">serial_random_line</th>\n      <th>1440</th>\n      <td>29.792000</td>\n    </tr>\n    <tr>\n      <th>1600</th>\n      <td>41.817333</td>\n    </tr>\n    <tr>\n      <th>1760</th>\n      <td>53.711333</td>\n    </tr>\n    <tr>\n      <th>1920</th>\n      <td>76.528667</td>\n    </tr>\n    <tr>\n      <th>2080</th>\n      <td>97.492667</td>\n    </tr>\n    <tr>\n      <th rowspan=\"5\" valign=\"top\">serial_square_transpose</th>\n      <th>1440</th>\n      <td>13.474667</td>\n    </tr>\n    <tr>\n      <th>1600</th>\n      <td>18.500000</td>\n    </tr>\n    <tr>\n      <th>1760</th>\n      <td>24.593333</td>\n    </tr>\n    <tr>\n      <th>1920</th>\n      <td>31.964667</td>\n    </tr>\n    <tr>\n      <th>2080</th>\n      <td>40.682667</td>\n    </tr>\n    <tr>\n      <th rowspan=\"5\" valign=\"top\">serial_transpose</th>\n      <th>1440</th>\n      <td>13.514667</td>\n    </tr>\n    <tr>\n      <th>1600</th>\n      <td>18.525333</td>\n    </tr>\n    <tr>\n      <th>1760</th>\n      <td>24.662667</td>\n    </tr>\n    <tr>\n      <th>1920</th>\n      <td>31.988667</td>\n    </tr>\n    <tr>\n      <th>2080</th>\n      <td>40.701333</td>\n    </tr>\n  </tbody>\n</table>\n</div>"
     },
     "metadata": {},
     "execution_count": 30
    }
   ],
   "source": [
    "serial_data"
   ]
  },
  {
   "cell_type": "code",
   "execution_count": 31,
   "metadata": {},
   "outputs": [
    {
     "output_type": "execute_result",
     "data": {
      "text/plain": [
       "                                      execution_time\n",
       "program                 problem_size                \n",
       "serial                  1440               31.581818\n",
       "                        1600               43.119091\n",
       "                        1760               52.179091\n",
       "                        1920               74.517273\n",
       "                        2080              107.833636\n",
       "serial_random_line      1440               30.783636\n",
       "                        1600               43.165455\n",
       "                        1760               54.772727\n",
       "                        1920               78.769091\n",
       "                        2080               98.194545\n",
       "serial_square_transpose 1440               13.466364\n",
       "                        1600               18.492727\n",
       "                        1760               24.586364\n",
       "                        1920               31.960909\n",
       "                        2080               40.667273\n",
       "serial_transpose        1440               13.512727\n",
       "                        1600               18.517273\n",
       "                        1760               24.659091\n",
       "                        1920               31.984545\n",
       "                        2080               40.688182"
      ],
      "text/html": "<div>\n<style scoped>\n    .dataframe tbody tr th:only-of-type {\n        vertical-align: middle;\n    }\n\n    .dataframe tbody tr th {\n        vertical-align: top;\n    }\n\n    .dataframe thead th {\n        text-align: right;\n    }\n</style>\n<table border=\"1\" class=\"dataframe\">\n  <thead>\n    <tr style=\"text-align: right;\">\n      <th></th>\n      <th></th>\n      <th>execution_time</th>\n    </tr>\n    <tr>\n      <th>program</th>\n      <th>problem_size</th>\n      <th></th>\n    </tr>\n  </thead>\n  <tbody>\n    <tr>\n      <th rowspan=\"5\" valign=\"top\">serial</th>\n      <th>1440</th>\n      <td>31.581818</td>\n    </tr>\n    <tr>\n      <th>1600</th>\n      <td>43.119091</td>\n    </tr>\n    <tr>\n      <th>1760</th>\n      <td>52.179091</td>\n    </tr>\n    <tr>\n      <th>1920</th>\n      <td>74.517273</td>\n    </tr>\n    <tr>\n      <th>2080</th>\n      <td>107.833636</td>\n    </tr>\n    <tr>\n      <th rowspan=\"5\" valign=\"top\">serial_random_line</th>\n      <th>1440</th>\n      <td>30.783636</td>\n    </tr>\n    <tr>\n      <th>1600</th>\n      <td>43.165455</td>\n    </tr>\n    <tr>\n      <th>1760</th>\n      <td>54.772727</td>\n    </tr>\n    <tr>\n      <th>1920</th>\n      <td>78.769091</td>\n    </tr>\n    <tr>\n      <th>2080</th>\n      <td>98.194545</td>\n    </tr>\n    <tr>\n      <th rowspan=\"5\" valign=\"top\">serial_square_transpose</th>\n      <th>1440</th>\n      <td>13.466364</td>\n    </tr>\n    <tr>\n      <th>1600</th>\n      <td>18.492727</td>\n    </tr>\n    <tr>\n      <th>1760</th>\n      <td>24.586364</td>\n    </tr>\n    <tr>\n      <th>1920</th>\n      <td>31.960909</td>\n    </tr>\n    <tr>\n      <th>2080</th>\n      <td>40.667273</td>\n    </tr>\n    <tr>\n      <th rowspan=\"5\" valign=\"top\">serial_transpose</th>\n      <th>1440</th>\n      <td>13.512727</td>\n    </tr>\n    <tr>\n      <th>1600</th>\n      <td>18.517273</td>\n    </tr>\n    <tr>\n      <th>1760</th>\n      <td>24.659091</td>\n    </tr>\n    <tr>\n      <th>1920</th>\n      <td>31.984545</td>\n    </tr>\n    <tr>\n      <th>2080</th>\n      <td>40.688182</td>\n    </tr>\n  </tbody>\n</table>\n</div>"
     },
     "metadata": {},
     "execution_count": 31
    }
   ],
   "source": [
    "serial_clean_data"
   ]
  },
  {
   "cell_type": "code",
   "execution_count": null,
   "metadata": {},
   "outputs": [],
   "source": []
  }
 ]
}