{
 "metadata": {
  "language_info": {
   "codemirror_mode": {
    "name": "ipython",
    "version": 3
   },
   "file_extension": ".py",
   "mimetype": "text/x-python",
   "name": "python",
   "nbconvert_exporter": "python",
   "pygments_lexer": "ipython3",
   "version": "3.8.5-final"
  },
  "orig_nbformat": 2,
  "kernelspec": {
   "name": "python3",
   "display_name": "Python 3.8.5 64-bit",
   "metadata": {
    "interpreter": {
     "hash": "31f2aee4e71d21fbe5cf8b01ff0e069b9275f58929596ceb00d14d90e3e16cd6"
    }
   }
  }
 },
 "nbformat": 4,
 "nbformat_minor": 2,
 "cells": [
  {
   "cell_type": "code",
   "execution_count": 9,
   "metadata": {},
   "outputs": [],
   "source": [
    "import pandas as pd\n",
    "import glob"
   ]
  },
  {
   "cell_type": "code",
   "execution_count": 10,
   "metadata": {},
   "outputs": [],
   "source": [
    "path_serials = list(glob.glob(\"./*erial*.csv\"))\n",
    "path_parallels = list(glob.glob(\"./*allel*.csv\"))"
   ]
  },
  {
   "cell_type": "code",
   "execution_count": 11,
   "metadata": {},
   "outputs": [],
   "source": [
    "serials = [pd.read_csv(path) for path in path_serials]\n",
    "parallels = [pd.read_csv(path) for path in path_parallels]"
   ]
  },
  {
   "cell_type": "code",
   "execution_count": 12,
   "metadata": {},
   "outputs": [],
   "source": [
    "serial = pd.concat(serials)\n",
    "parallel = pd.concat(parallels)"
   ]
  },
  {
   "cell_type": "code",
   "execution_count": 13,
   "metadata": {},
   "outputs": [],
   "source": [
    "parallel_data = parallel.drop(\"trial\", axis=1).groupby([\"program\", \"cores\", \"problem_size\"]).mean()"
   ]
  },
  {
   "cell_type": "code",
   "execution_count": 14,
   "metadata": {},
   "outputs": [],
   "source": [
    "serial_data = serial.drop([\"trial\", \"cores\"], axis=1).groupby([\"program\", \"problem_size\"]).mean()"
   ]
  },
  {
   "cell_type": "code",
   "execution_count": 15,
   "metadata": {},
   "outputs": [],
   "source": [
    "def remove_min_max(data):\n",
    "    mins = list(data.groupby([\"program\", \"problem_size\"]).idxmin()[\"execution_time\"].values)\n",
    "    maxs = list(data.groupby([\"program\", \"problem_size\"]).idxmax()[\"execution_time\"].values)\n",
    "    return data.drop(mins+maxs)\n",
    "serial_clean = remove_min_max(serial)\n",
    "serial_clean = remove_min_max(serial_clean)\n",
    "serial_clean_data = serial_clean.drop([\"trial\", \"cores\"], axis=1).groupby([\"program\", \"problem_size\"]).mean()"
   ]
  },
  {
   "cell_type": "code",
   "execution_count": 16,
   "metadata": {},
   "outputs": [
    {
     "output_type": "execute_result",
     "data": {
      "text/plain": [
       "                                      execution_time\n",
       "program                 problem_size                \n",
       "serial                  1440               31.468143\n",
       "                        1600               43.185571\n",
       "                        1760               59.419714\n",
       "                        1920               81.403429\n",
       "                        2080              110.046667\n",
       "serial_random_line      1440               30.576857\n",
       "                        1600               43.226714\n",
       "                        1760               59.557571\n",
       "                        1920               81.819714\n",
       "                        2080              107.355574\n",
       "serial_square_transpose 1440               13.620571\n",
       "                        1600               18.656143\n",
       "                        1760               24.979000\n",
       "                        1920               32.421143\n",
       "                        2080               41.190164\n",
       "serial_transpose        1440               13.619143\n",
       "                        1600               18.700143\n",
       "                        1760               25.106429\n",
       "                        1920               32.492857\n",
       "                        2080               41.379524"
      ],
      "text/html": "<div>\n<style scoped>\n    .dataframe tbody tr th:only-of-type {\n        vertical-align: middle;\n    }\n\n    .dataframe tbody tr th {\n        vertical-align: top;\n    }\n\n    .dataframe thead th {\n        text-align: right;\n    }\n</style>\n<table border=\"1\" class=\"dataframe\">\n  <thead>\n    <tr style=\"text-align: right;\">\n      <th></th>\n      <th></th>\n      <th>execution_time</th>\n    </tr>\n    <tr>\n      <th>program</th>\n      <th>problem_size</th>\n      <th></th>\n    </tr>\n  </thead>\n  <tbody>\n    <tr>\n      <th rowspan=\"5\" valign=\"top\">serial</th>\n      <th>1440</th>\n      <td>31.468143</td>\n    </tr>\n    <tr>\n      <th>1600</th>\n      <td>43.185571</td>\n    </tr>\n    <tr>\n      <th>1760</th>\n      <td>59.419714</td>\n    </tr>\n    <tr>\n      <th>1920</th>\n      <td>81.403429</td>\n    </tr>\n    <tr>\n      <th>2080</th>\n      <td>110.046667</td>\n    </tr>\n    <tr>\n      <th rowspan=\"5\" valign=\"top\">serial_random_line</th>\n      <th>1440</th>\n      <td>30.576857</td>\n    </tr>\n    <tr>\n      <th>1600</th>\n      <td>43.226714</td>\n    </tr>\n    <tr>\n      <th>1760</th>\n      <td>59.557571</td>\n    </tr>\n    <tr>\n      <th>1920</th>\n      <td>81.819714</td>\n    </tr>\n    <tr>\n      <th>2080</th>\n      <td>107.355574</td>\n    </tr>\n    <tr>\n      <th rowspan=\"5\" valign=\"top\">serial_square_transpose</th>\n      <th>1440</th>\n      <td>13.620571</td>\n    </tr>\n    <tr>\n      <th>1600</th>\n      <td>18.656143</td>\n    </tr>\n    <tr>\n      <th>1760</th>\n      <td>24.979000</td>\n    </tr>\n    <tr>\n      <th>1920</th>\n      <td>32.421143</td>\n    </tr>\n    <tr>\n      <th>2080</th>\n      <td>41.190164</td>\n    </tr>\n    <tr>\n      <th rowspan=\"5\" valign=\"top\">serial_transpose</th>\n      <th>1440</th>\n      <td>13.619143</td>\n    </tr>\n    <tr>\n      <th>1600</th>\n      <td>18.700143</td>\n    </tr>\n    <tr>\n      <th>1760</th>\n      <td>25.106429</td>\n    </tr>\n    <tr>\n      <th>1920</th>\n      <td>32.492857</td>\n    </tr>\n    <tr>\n      <th>2080</th>\n      <td>41.379524</td>\n    </tr>\n  </tbody>\n</table>\n</div>"
     },
     "metadata": {},
     "execution_count": 16
    }
   ],
   "source": [
    "serial_data"
   ]
  },
  {
   "cell_type": "code",
   "execution_count": 17,
   "metadata": {},
   "outputs": [
    {
     "output_type": "execute_result",
     "data": {
      "text/plain": [
       "                                      execution_time\n",
       "program                 problem_size                \n",
       "serial                  1440               31.725745\n",
       "                        1600               43.154107\n",
       "                        1760               59.392745\n",
       "                        1920               82.373654\n",
       "                        2080              110.153333\n",
       "serial_random_line      1440               30.923023\n",
       "                        1600               43.114068\n",
       "                        1760               58.904615\n",
       "                        1920               80.710980\n",
       "                        2080              106.709583\n",
       "serial_square_transpose 1440               13.514706\n",
       "                        1600               18.543488\n",
       "                        1760               24.681379\n",
       "                        1920               32.327885\n",
       "                        2080               40.988889\n",
       "serial_transpose        1440               13.538298\n",
       "                        1600               18.539636\n",
       "                        1760               24.849107\n",
       "                        1920               32.276346\n",
       "                        2080               41.124444"
      ],
      "text/html": "<div>\n<style scoped>\n    .dataframe tbody tr th:only-of-type {\n        vertical-align: middle;\n    }\n\n    .dataframe tbody tr th {\n        vertical-align: top;\n    }\n\n    .dataframe thead th {\n        text-align: right;\n    }\n</style>\n<table border=\"1\" class=\"dataframe\">\n  <thead>\n    <tr style=\"text-align: right;\">\n      <th></th>\n      <th></th>\n      <th>execution_time</th>\n    </tr>\n    <tr>\n      <th>program</th>\n      <th>problem_size</th>\n      <th></th>\n    </tr>\n  </thead>\n  <tbody>\n    <tr>\n      <th rowspan=\"5\" valign=\"top\">serial</th>\n      <th>1440</th>\n      <td>31.725745</td>\n    </tr>\n    <tr>\n      <th>1600</th>\n      <td>43.154107</td>\n    </tr>\n    <tr>\n      <th>1760</th>\n      <td>59.392745</td>\n    </tr>\n    <tr>\n      <th>1920</th>\n      <td>82.373654</td>\n    </tr>\n    <tr>\n      <th>2080</th>\n      <td>110.153333</td>\n    </tr>\n    <tr>\n      <th rowspan=\"5\" valign=\"top\">serial_random_line</th>\n      <th>1440</th>\n      <td>30.923023</td>\n    </tr>\n    <tr>\n      <th>1600</th>\n      <td>43.114068</td>\n    </tr>\n    <tr>\n      <th>1760</th>\n      <td>58.904615</td>\n    </tr>\n    <tr>\n      <th>1920</th>\n      <td>80.710980</td>\n    </tr>\n    <tr>\n      <th>2080</th>\n      <td>106.709583</td>\n    </tr>\n    <tr>\n      <th rowspan=\"5\" valign=\"top\">serial_square_transpose</th>\n      <th>1440</th>\n      <td>13.514706</td>\n    </tr>\n    <tr>\n      <th>1600</th>\n      <td>18.543488</td>\n    </tr>\n    <tr>\n      <th>1760</th>\n      <td>24.681379</td>\n    </tr>\n    <tr>\n      <th>1920</th>\n      <td>32.327885</td>\n    </tr>\n    <tr>\n      <th>2080</th>\n      <td>40.988889</td>\n    </tr>\n    <tr>\n      <th rowspan=\"5\" valign=\"top\">serial_transpose</th>\n      <th>1440</th>\n      <td>13.538298</td>\n    </tr>\n    <tr>\n      <th>1600</th>\n      <td>18.539636</td>\n    </tr>\n    <tr>\n      <th>1760</th>\n      <td>24.849107</td>\n    </tr>\n    <tr>\n      <th>1920</th>\n      <td>32.276346</td>\n    </tr>\n    <tr>\n      <th>2080</th>\n      <td>41.124444</td>\n    </tr>\n  </tbody>\n</table>\n</div>"
     },
     "metadata": {},
     "execution_count": 17
    }
   ],
   "source": [
    "serial_clean_data"
   ]
  },
  {
   "cell_type": "code",
   "execution_count": null,
   "metadata": {},
   "outputs": [],
   "source": []
  }
 ]
}